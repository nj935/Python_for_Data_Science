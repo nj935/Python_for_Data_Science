{
 "cells": [
  {
   "cell_type": "markdown",
   "metadata": {},
   "source": [
    "# Python for Data Science - Week 1\n",
    "### Lab session\n",
    "Work through the following exercises. Get through as many as you can in the time allotted.\n",
    "The box lists additional Python functionality that may help you.\n",
    "\n",
    "| Task | Python function |\n",
    "|----|----|\n",
    "| Import the code library 'random' | import random |\n",
    "| Generate random numbers | random.randint() |\n",
    "| Prompt the user for some text | my_variable = input() |\n"
   ]
  },
  {
   "cell_type": "markdown",
   "metadata": {},
   "source": [
    "#### EXERCISE 1: Age calculator\n",
    "    \n",
    "Write a program that will:\n",
    "1. Define a variable 'birth_year'\n",
    "2. Define a variable 'current_year'\n",
    "3. Calculate the person's age from these two\n",
    "4. Print the output in format (\"You are x years old.\")"
   ]
  },
  {
   "cell_type": "code",
   "execution_count": null,
   "metadata": {},
   "outputs": [],
   "source": [
    "# YOUR CODE HERE:"
   ]
  },
  {
   "cell_type": "markdown",
   "metadata": {},
   "source": [
    "#### EXERCISE 2: Sports star salaries\n",
    "\n",
    "1. Define three variables, player, season_length, and annual_salary. Just use a Google search to find some values.\n",
    "2. Write a script to calculate how much the player earns (a) per month, and (b) for each day in the season.\n",
    "3. Print your output neatly.\n",
    "4. Your team won the tournament so your player gets a 33% bonus. Recalculate.\n",
    "\n",
    "**BONUS POINTS**: find a way to limit the salary to two decimal points when printing it."
   ]
  },
  {
   "cell_type": "code",
   "execution_count": 28,
   "metadata": {},
   "outputs": [],
   "source": [
    "# YOUR CODE HERE:"
   ]
  },
  {
   "cell_type": "markdown",
   "metadata": {},
   "source": [
    "#### EXERCISE 3: Higher or lower?\n",
    "\n",
    "Write a program to:\n",
    "1. Generate a random number (kept secret from the user)\n",
    "2. Ask the user to guess the number\n",
    "3. Tell them if they were correct, too high, or too low.\n",
    "\n",
    "BONUS POINTS: limit the number of guesses to 5."
   ]
  },
  {
   "cell_type": "code",
   "execution_count": 1,
   "metadata": {},
   "outputs": [],
   "source": [
    "# YOUR CODE HERE:"
   ]
  },
  {
   "cell_type": "markdown",
   "metadata": {},
   "source": [
    "#### EXERCISE 4: FizzBuzz\n",
    "\n",
    "Write a script to:\n",
    "\n",
    "* Print out the numbers from 1 to 20 but replacing numbers with 'Fizz' if divisible by 3, 'Buzz' if divisible by '5', and 'FizzBuzz' if divisible by 3 and 5.\n",
    "\n",
    "Hint: the 'mod' operator, denoted %, is widely used to check divisibility. Example: 10 % 2 == 0.\n",
    "\n",
    "(Any questions about a Python function, just google it!!). "
   ]
  },
  {
   "cell_type": "code",
   "execution_count": null,
   "metadata": {},
   "outputs": [],
   "source": [
    "# YOUR CODE HERE:"
   ]
  }
 ],
 "metadata": {
  "kernelspec": {
   "display_name": "Python 3",
   "language": "python",
   "name": "python3"
  },
  "language_info": {
   "codemirror_mode": {
    "name": "ipython",
    "version": 3
   },
   "file_extension": ".py",
   "mimetype": "text/x-python",
   "name": "python",
   "nbconvert_exporter": "python",
   "pygments_lexer": "ipython3",
   "version": "3.7.1"
  }
 },
 "nbformat": 4,
 "nbformat_minor": 2
}
